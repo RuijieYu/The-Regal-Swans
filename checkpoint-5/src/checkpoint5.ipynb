{
 "cells": [
  {
   "cell_type": "markdown",
   "id": "37e0447d",
   "metadata": {},
   "source": [
    "# Preparation"
   ]
  },
  {
   "cell_type": "markdown",
   "id": "b78d882d",
   "metadata": {},
   "source": [
    "## Install Prerequisites"
   ]
  },
  {
   "cell_type": "markdown",
   "id": "d7b203c6",
   "metadata": {},
   "source": [
    "The following platform(s) are tested:\n",
    "\n",
    "- Windows 10 + CUDA 11.0.2 + Python 3.9.9 (with GPU)"
   ]
  },
  {
   "cell_type": "code",
   "execution_count": 203,
   "id": "1753f58b",
   "metadata": {},
   "outputs": [],
   "source": [
    "import sys\n",
    "import subprocess as sp\n",
    "import typing as t\n",
    "def module(mod_args: t.Union[list[str], str], **kw):\n",
    "    'Run a module from currently-running python executable'\n",
    "    return sp.Popen((sys.executable, '-m',\n",
    "                    *(mod_args.split()\n",
    "                     if isinstance(mod_args, str)\n",
    "                     else mod_args)), **kw).wait()\n",
    "\n",
    "# import all required packages\n",
    "# Tested on Windows 10\n",
    "module(r'''pip install -q --user\n",
    "    torch=1.10.0+cu113\n",
    "    transformers datasets numpy pandas wordninja spacy\n",
    "    sqlalchemy psycopg2\n",
    "    matplotlib\n",
    "''');\n",
    "module(r'spacy download en_core_web_sm');"
   ]
  },
  {
   "cell_type": "code",
   "execution_count": 204,
   "id": "8f5afdbb",
   "metadata": {},
   "outputs": [],
   "source": [
    "import warnings\n",
    "warnings.filterwarnings('ignore')"
   ]
  },
  {
   "cell_type": "markdown",
   "id": "57138502",
   "metadata": {},
   "source": [
    "## Create connection"
   ]
  },
  {
   "cell_type": "code",
   "execution_count": 224,
   "id": "b1286849",
   "metadata": {},
   "outputs": [],
   "source": [
    "from sqlalchemy import create_engine\n",
    "from regal_swans_private import sql_url, sql_pass as _\n",
    "engine = create_engine(sql_url, pool_recycle=3600)\n",
    "conn = engine.connect()"
   ]
  },
  {
   "cell_type": "markdown",
   "id": "2fbcad12",
   "metadata": {},
   "source": [
    "## Load Packages and NLP Data"
   ]
  },
  {
   "cell_type": "code",
   "execution_count": 206,
   "id": "8b9fb6cc",
   "metadata": {},
   "outputs": [],
   "source": [
    "# change to None if not using a GPU,\n",
    "# or any other index if non-default GPU\n",
    "gpu_index = 0"
   ]
  },
  {
   "cell_type": "code",
   "execution_count": 207,
   "id": "012a7d33",
   "metadata": {},
   "outputs": [],
   "source": [
    "from transformers import (pipeline as _pipeline, BertTokenizer)\n",
    "from collections import Counter\n",
    "from spacy.tokens import Token\n",
    "from spacy.matcher import Matcher\n",
    "from spacy.strings import StringStore\n",
    "from copy import deepcopy\n",
    "import spacy\n",
    "import torch\n",
    "import re\n",
    "import wordninja as wn\n",
    "import numpy as np\n",
    "import pandas as pd\n",
    "import functools as ft\n",
    "\n",
    "tokenize = spacy.load('en_core_web_sm')\n",
    "\n",
    "pipeline = (ft.partial(_pipeline, device=gpu_index)\n",
    "            if gpu_index is not None else _pipeline)"
   ]
  },
  {
   "cell_type": "code",
   "execution_count": 208,
   "id": "d3033b40",
   "metadata": {},
   "outputs": [
    {
     "name": "stderr",
     "output_type": "stream",
     "text": [
      "No model was supplied, defaulted to distilbert-base-uncased-finetuned-sst-2-english (https://huggingface.co/distilbert-base-uncased-finetuned-sst-2-english)\n"
     ]
    }
   ],
   "source": [
    "# prepare analyzer\n",
    "sentiment_analyzer = pipeline('sentiment-analysis')\n",
    "sentiment_analyzer = (lambda f:\n",
    "    lambda *a, **kw:f(*a, **kw)[0])(sentiment_analyzer)\n",
    "# well, only allow at most 512 characters\n",
    "sentiment_analyzer = (lambda f:\n",
    "    lambda s: f(s[:512]))(sentiment_analyzer)\n",
    "def sentiment_score(sentiment):\n",
    "    import math\n",
    "    if isinstance(sentiment, int): return sentiment\n",
    "    negative = sentiment['label'] == 'NEGATIVE'\n",
    "    score = math.log(1 - sentiment['score'])\n",
    "    return round(score, 2) * (1 if negative else -1)"
   ]
  },
  {
   "cell_type": "code",
   "execution_count": 209,
   "id": "7c37c1e7",
   "metadata": {},
   "outputs": [],
   "source": [
    "# clean text\n",
    "def clean(text: str):\n",
    "    if text.lower() in (\n",
    "        '(none entered)', 'no affidavit'): return ''\n",
    "    \n",
    "    text = text \\\n",
    "        .replace('\\n', ' ') \\\n",
    "        .replace('|', 'I') \\\n",
    "        .replace('Initial / In take Allegation ', '') \\\n",
    "        .replace(':', '') \\\n",
    "        .replace('Finding ', '') \\\n",
    "        .strip()\n",
    "    \n",
    "    text = ' '.join(\n",
    "        word\n",
    "        for token in text.split()\n",
    "        for word in (\n",
    "            wn.split(token)\n",
    "            if token.isalpha()\n",
    "            else (token,)))\n",
    "    return text.lower()"
   ]
  },
  {
   "cell_type": "code",
   "execution_count": 210,
   "id": "7b8189cd",
   "metadata": {},
   "outputs": [],
   "source": [
    "# helper functions for debugging\n",
    "first = lambda seq: next(iter(seq))"
   ]
  },
  {
   "cell_type": "markdown",
   "id": "b5f61ba5",
   "metadata": {},
   "source": [
    "# Part 1\n",
    "**Do repeat police officers receive more severe allegations across their careers?**"
   ]
  },
  {
   "cell_type": "code",
   "execution_count": 211,
   "id": "a157590b",
   "metadata": {},
   "outputs": [],
   "source": [
    "# keep a copy for debug & backup purposes\n",
    "\n",
    "# del _allegations\n",
    "_allegations = pd.read_sql(\n",
    "    r'''SELECT\n",
    "            crid,    -- str\n",
    "            summary, -- str\n",
    "            (DATE_PART('YEAR',CURRENT_DATE)-\n",
    "            DATE_PART('YEAR',org_hire_date))::INT emp_years\n",
    "        FROM data_allegation da\n",
    "        JOIN data_officerallegation doa\n",
    "        ON da.crid = doa.allegation_id\n",
    "        JOIN data_salary ds\n",
    "        ON doa.officer_id = ds.officer_id''',\n",
    "    conn) if '_allegations' not in locals() else _allegations"
   ]
  },
  {
   "cell_type": "code",
   "execution_count": 212,
   "id": "d48dfddc",
   "metadata": {},
   "outputs": [],
   "source": [
    "# copy table\n",
    "allegations = deepcopy(_allegations)"
   ]
  },
  {
   "cell_type": "code",
   "execution_count": 213,
   "id": "09d55efb",
   "metadata": {},
   "outputs": [],
   "source": [
    "# drop repeated rows\n",
    "allegations.drop_duplicates(inplace=True)"
   ]
  },
  {
   "cell_type": "code",
   "execution_count": 214,
   "id": "f6df3104",
   "metadata": {},
   "outputs": [],
   "source": [
    "# clean up text\n",
    "allegations.summary = allegations.summary.map(clean)\n",
    "allegations = allegations[\n",
    "    allegations.summary.map(lambda e:e or '') != '']"
   ]
  },
  {
   "cell_type": "code",
   "execution_count": 215,
   "id": "ce612f26",
   "metadata": {},
   "outputs": [],
   "source": [
    "# add a sentiment column\n",
    "allegations = allegations \\\n",
    "    .assign(sentiment=allegations.summary)\n",
    "allegations.sentiment = \\\n",
    "    allegations.sentiment \\\n",
    "    .map(sentiment_analyzer) \\\n",
    "    .map(sentiment_score)"
   ]
  },
  {
   "cell_type": "code",
   "execution_count": 216,
   "id": "b4591d21",
   "metadata": {},
   "outputs": [
    {
     "name": "stdout",
     "output_type": "stream",
     "text": [
      "Normalized covariance between \"Years of Employment\" and \"Sentiment Score\":\n",
      "-0.10993363176110868\n"
     ]
    },
    {
     "data": {
      "image/png": "[encoded data removed]",
      "text/plain": [
       "<Figure size 432x288 with 1 Axes>"
      ]
     },
     "metadata": {
      "needs_background": "light"
     },
     "output_type": "display_data"
    }
   ],
   "source": [
    "import matplotlib.pyplot as plt\n",
    "plt.plot(allegations.emp_years,\n",
    "         allegations.sentiment,\n",
    "         '.');\n",
    "plt.xlabel('Years of Employment');\n",
    "plt.ylabel('Sentiment Score');\n",
    "\n",
    "cor = np.corrcoef(\n",
    "    allegations.emp_years, allegations.sentiment)[1][0]\n",
    "print('Normalized covariance between '\n",
    "      '\"Years of Employment\" '\n",
    "      'and \"Sentiment Score\":\\n'\n",
    "      f'{cor}''')"
   ]
  },
  {
   "cell_type": "markdown",
   "id": "a6f1fffd",
   "metadata": {},
   "source": [
    "Conclusion from the covariance and scatter plot: there is an **insignificant** correlation between the years of employment (i.e., experience) and the sentiment score (i.e., the severity of allegations)."
   ]
  },
  {
   "cell_type": "markdown",
   "id": "ab2f408c",
   "metadata": {},
   "source": [
    "# Part 2\n",
    "**Are lawsuits likely to include the experience of officers as either an aggravating factor or a redeeming quality?**"
   ]
  },
  {
   "cell_type": "code",
   "execution_count": 217,
   "id": "1b7e2ce3",
   "metadata": {},
   "outputs": [],
   "source": [
    "# keep a copy for debug & backup purposes\n",
    "\n",
    "# del _lawsuits\n",
    "_lawsuits = pd.read_sql(\n",
    "    r'''SELECT\n",
    "            lawsuit_id,         -- int\n",
    "            summary,            -- str\n",
    "            total_payments pay, -- int\n",
    "            (DATE_PART('YEAR',CURRENT_DATE)-\n",
    "            DATE_PART('YEAR',org_hire_date))::INT emp_years\n",
    "        FROM data_salary ds\n",
    "        JOIN lawsuit_lawsuit_officers llo\n",
    "        ON ds.officer_id = llo.officer_id\n",
    "        JOIN lawsuit_lawsuit ll\n",
    "        ON ll.id = llo.lawsuit_id''',\n",
    "    conn) if '_lawsuits' not in locals() else _lawsuits"
   ]
  },
  {
   "cell_type": "code",
   "execution_count": 218,
   "id": "0781c460",
   "metadata": {},
   "outputs": [],
   "source": [
    "lawsuits = deepcopy(_lawsuits)"
   ]
  },
  {
   "cell_type": "code",
   "execution_count": 219,
   "id": "46c96eb8",
   "metadata": {},
   "outputs": [],
   "source": [
    "lawsuits.drop_duplicates(inplace=True)"
   ]
  },
  {
   "cell_type": "code",
   "execution_count": 220,
   "id": "879eeae7",
   "metadata": {},
   "outputs": [],
   "source": [
    "lawsuits = lawsuits \\\n",
    "    .assign(\n",
    "        sentiment=lawsuits.summary\n",
    "            .map(sentiment_analyzer)\n",
    "            .map(sentiment_score),\n",
    "        log_pay=lawsuits.pay.map(np.log))"
   ]
  },
  {
   "cell_type": "code",
   "execution_count": 222,
   "id": "fee62555",
   "metadata": {},
   "outputs": [
    {
     "name": "stdout",
     "output_type": "stream",
     "text": [
      "Normalized covariance between \"Years of Employment\" and \"Lawsuit Sentiment Score\":\n",
      "-0.004092973027721347\n"
     ]
    },
    {
     "data": {
      "image/png": "[encoded data removed]",
      "text/plain": [
       "<Figure size 432x288 with 1 Axes>"
      ]
     },
     "metadata": {
      "needs_background": "light"
     },
     "output_type": "display_data"
    }
   ],
   "source": [
    "import matplotlib.pyplot as plt\n",
    "plt.plot(lawsuits.emp_years, lawsuits.sentiment, '.')\n",
    "plt.xlabel('Employed Years')\n",
    "plt.ylabel('Lawsuit Sentiment Score')\n",
    "cor_evs = np.corrcoef(lawsuits.emp_years, lawsuits.sentiment)[1][0]\n",
    "print('Normalized covariance between '\n",
    "      '\"Years of Employment\" '\n",
    "      'and \"Lawsuit Sentiment Score\":\\n'\n",
    "      f'{cor_evs}''')"
   ]
  },
  {
   "cell_type": "markdown",
   "id": "168ec87a",
   "metadata": {},
   "source": [
    "From the scatter plot above and the resultant covariance coefficient, we conclude that there is virtually no correlation between the years of employment and the severity of the lawsuit."
   ]
  }
 ],
 "metadata": {
  "kernelspec": {
   "display_name": "Python 3 (ipykernel)",
   "language": "python",
   "name": "python3"
  },
  "language_info": {
   "codemirror_mode": {
    "name": "ipython",
    "version": 3
   },
   "file_extension": ".py",
   "mimetype": "text/x-python",
   "name": "python",
   "nbconvert_exporter": "python",
   "pygments_lexer": "ipython3",
   "version": "3.9.5"
  }
 },
 "nbformat": 4,
 "nbformat_minor": 5
}
